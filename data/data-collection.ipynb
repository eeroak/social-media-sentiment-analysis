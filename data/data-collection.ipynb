{
 "cells": [
  {
   "cell_type": "markdown",
   "metadata": {},
   "source": [
    "### Collecting real-time data from twitter using tweepy\n",
    "Target is to collect data for a particular keyword and perform sentiment analysis on the same using TextBlob library.  \n",
    "The data i am collecting is for the keyword \"Coronavirus\".  \n",
    "Following are the fields i am collecting:\n",
    "1. Tweets\n",
    "2. User Name\n",
    "3. User Location\n",
    "4. User Followers Count\n",
    "5. User Friends Count"
   ]
  },
  {
   "cell_type": "code",
   "execution_count": 1,
   "metadata": {},
   "outputs": [],
   "source": [
    "import tweepy\n",
    "# Need import for secure API key storage"
   ]
  }
 ],
 "metadata": {
  "kernelspec": {
   "display_name": "Python 3",
   "language": "python",
   "name": "python3"
  },
  "language_info": {
   "codemirror_mode": {
    "name": "ipython",
    "version": 3
   },
   "file_extension": ".py",
   "mimetype": "text/x-python",
   "name": "python",
   "nbconvert_exporter": "python",
   "pygments_lexer": "ipython3",
   "version": "3.11.1"
  }
 },
 "nbformat": 4,
 "nbformat_minor": 2
}
