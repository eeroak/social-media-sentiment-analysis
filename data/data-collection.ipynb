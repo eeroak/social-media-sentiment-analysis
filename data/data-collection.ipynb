{
 "cells": [
  {
   "cell_type": "markdown",
   "metadata": {},
   "source": [
    "### Collecting real-time data from twitter using tweepy\n",
    "Target is to collect data for a particular keyword and perform sentiment analysis on the same using TextBlob library.  \n",
    "The data i am collecting is for the keyword \"Coronavirus\".  \n",
    "Following are the fields i am collecting:\n",
    "1. Tweets\n",
    "2. User Name\n",
    "3. User Location\n",
    "4. User Followers Count\n",
    "5. User Friends Count"
   ]
  },
  {
   "cell_type": "code",
   "execution_count": 46,
   "metadata": {},
   "outputs": [],
   "source": [
    "import tweepy\n",
    "import secret1"
   ]
  },
  {
   "cell_type": "code",
   "execution_count": 47,
   "metadata": {},
   "outputs": [],
   "source": [
    "# Authentication\n",
    "auth = tweepy.OAuthHandler(secret1.API_KEY, secret1.API_SECRET) # Create an OAuthHandler instance\n",
    "auth.set_access_token(secret1.ACCESS_TOKEN, secret1.ACCESS_TOKEN_SECRET) # Set the access token and access token secret\n",
    "\n",
    "# Create an API object\n",
    "api = tweepy.API(auth)"
   ]
  },
  {
   "cell_type": "code",
   "execution_count": null,
   "metadata": {},
   "outputs": [],
   "source": [
    "def collect_tweets():\n",
    "    # Example 1: Get the 10 most recent tweets from Elon Musk (Learning how to use the API and tweepy)\n",
    "    tweets = api.user_timeline(screen_name='@elonmusk', count=10, tweet_mode='extended')\n",
    "    return tweets"
   ]
  }
 ],
 "metadata": {
  "kernelspec": {
   "display_name": "Python 3",
   "language": "python",
   "name": "python3"
  },
  "language_info": {
   "codemirror_mode": {
    "name": "ipython",
    "version": 3
   },
   "file_extension": ".py",
   "mimetype": "text/x-python",
   "name": "python",
   "nbconvert_exporter": "python",
   "pygments_lexer": "ipython3",
   "version": "3.11.6"
  }
 },
 "nbformat": 4,
 "nbformat_minor": 2
}
